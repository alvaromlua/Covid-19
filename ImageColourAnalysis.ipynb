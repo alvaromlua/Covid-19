{
 "cells": [
  {
   "cell_type": "code",
   "execution_count": 2,
   "metadata": {},
   "outputs": [
    {
     "name": "stdout",
     "output_type": "stream",
     "text": [
      "Processed dataset created at: ./COVID-19_Radiography_Dataset-PROCESADO\n"
     ]
    }
   ],
   "source": [
    "import os\n",
    "import shutil\n",
    "import cv2\n",
    "import numpy as np\n",
    "\n",
    "#Dataset\n",
    "original_dataset_path = './COVID-19_Radiography_Dataset'\n",
    "processed_dataset_path = './COVID-19_Radiography_Dataset-PROCESADO'\n",
    "\n",
    "#Categories\n",
    "categories = ['Normal', 'COVID', 'Lung_Opacity', 'Viral Pneumonia']\n",
    "\n",
    "#Function to calculate Image Channel color mean\n",
    "def calculate_image_mean(image_path):\n",
    "    image = cv2.imread(image_path)\n",
    "    mean_val = np.mean(image, axis=(0, 1))\n",
    "    return np.mean(mean_val)\n",
    "\n",
    "#Crea nuevos path del dataset \n",
    "if not os.path.exists(processed_dataset_path):\n",
    "    os.mkdir(processed_dataset_path)\n",
    "\n",
    "for category in categories:\n",
    "    #Crea subdirectorios \n",
    "    category_path = os.path.join(processed_dataset_path, category)\n",
    "    if not os.path.exists(category_path):\n",
    "        os.mkdir(category_path)\n",
    "        os.mkdir(os.path.join(category_path, 'images'))\n",
    "    \n",
    "    #Path original\n",
    "    original_images_path = os.path.join(original_dataset_path, category, 'images')\n",
    "    #Path de los procesados\n",
    "    processed_images_path = os.path.join(category_path, 'images')\n",
    "    \n",
    "    \n",
    "    for image_name in os.listdir(original_images_path):\n",
    "        image_path = os.path.join(original_images_path, image_name)\n",
    "        #Calcula el mean \n",
    "        mean_val = calculate_image_mean(image_path)\n",
    "        #Sobrescribe el archivo\n",
    "        new_image_name = f\"{image_name.split('.')[0]}_{int(round(mean_val))}.png\"\n",
    "        new_image_path = os.path.join(processed_images_path, new_image_name)\n",
    "        #Copia el archivo\n",
    "        shutil.copy2(image_path, new_image_path)\n",
    "\n",
    "print(f\"Processed dataset created at: {processed_dataset_path}\")\n"
   ]
  }
 ],
 "metadata": {
  "kernelspec": {
   "display_name": "Python 3",
   "language": "python",
   "name": "python3"
  },
  "language_info": {
   "codemirror_mode": {
    "name": "ipython",
    "version": 3
   },
   "file_extension": ".py",
   "mimetype": "text/x-python",
   "name": "python",
   "nbconvert_exporter": "python",
   "pygments_lexer": "ipython3",
   "version": "3.9.13"
  }
 },
 "nbformat": 4,
 "nbformat_minor": 2
}
