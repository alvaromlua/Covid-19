{
  "cells": [
    {
      "cell_type": "markdown",
      "metadata": {
        "id": "Rk2Qw0cSTzxH"
      },
      "source": [
        "# Segmentación Semántica con UNet\n",
        "\n",
        "En este notebook aprenderás a utilizar el modelo de segmentación semántica U-Net."
      ]
    },
    {
      "cell_type": "code",
      "execution_count": 1,
      "metadata": {
        "id": "N6rlskTOiuCE"
      },
      "outputs": [
        {
          "name": "stderr",
          "output_type": "stream",
          "text": [
            "\"git\" no se reconoce como un comando interno o externo,\n",
            "programa o archivo por lotes ejecutable.\n"
          ]
        }
      ],
      "source": [
        "# Clonamos el repositorio a la carpeta 'unet'\n",
        "!git clone -n https://github.com/milesial/Pytorch-UNet.git unet"
      ]
    },
    {
      "cell_type": "code",
      "execution_count": 2,
      "metadata": {
        "id": "XveUhs780FJL"
      },
      "outputs": [
        {
          "name": "stdout",
          "output_type": "stream",
          "text": [
            "[WinError 2] El sistema no puede encontrar el archivo especificado: 'unet'\n",
            "d:\\Alvaro\\Cursos\\PUCP\\M2\\Desarrollo en Aplicaciones con Visión Artificial\\TrabajoFinal\\Modelo\\Covid-19\\COVID-19_Radiography_Dataset\n"
          ]
        },
        {
          "name": "stderr",
          "output_type": "stream",
          "text": [
            "C:\\Users\\Sistema\\AppData\\Local\\Packages\\PythonSoftwareFoundation.Python.3.9_qbz5n2kfra8p0\\LocalCache\\local-packages\\Python39\\site-packages\\IPython\\core\\magics\\osm.py:393: UserWarning: using bookmarks requires you to install the `pickleshare` library.\n",
            "  bkms = self.shell.db.get('bookmarks', {})\n"
          ]
        }
      ],
      "source": [
        "# Nos posicionamos en la carpeta 'unet'\n",
        "%cd unet"
      ]
    },
    {
      "cell_type": "code",
      "execution_count": 3,
      "metadata": {
        "id": "-Ps1Mr1cS_fs"
      },
      "outputs": [
        {
          "name": "stderr",
          "output_type": "stream",
          "text": [
            "\"git\" no se reconoce como un comando interno o externo,\n",
            "programa o archivo por lotes ejecutable.\n"
          ]
        }
      ],
      "source": [
        "!git checkout e1a69e7c6ce18edd47271b01e4aabc03b436753d"
      ]
    },
    {
      "cell_type": "markdown",
      "metadata": {
        "id": "peJ9MD8E0o1q"
      },
      "source": [
        "### Ejemplo de Predicción"
      ]
    },
    {
      "cell_type": "code",
      "execution_count": 5,
      "metadata": {},
      "outputs": [
        {
          "name": "stdout",
          "output_type": "stream",
          "text": [
            "Defaulting to user installation because normal site-packages is not writeable\n",
            "Collecting utils\n",
            "  Downloading utils-1.0.2.tar.gz (13 kB)\n",
            "  Preparing metadata (setup.py): started\n",
            "  Preparing metadata (setup.py): finished with status 'done'\n",
            "Building wheels for collected packages: utils\n",
            "  Building wheel for utils (setup.py): started\n",
            "  Building wheel for utils (setup.py): finished with status 'done'\n",
            "  Created wheel for utils: filename=utils-1.0.2-py2.py3-none-any.whl size=13934 sha256=d099466d60a57974d2dd364212494e154625db8fd6895dc5b9fa5da35d5e4351\n",
            "  Stored in directory: c:\\users\\sistema\\appdata\\local\\packages\\pythonsoftwarefoundation.python.3.12_qbz5n2kfra8p0\\localcache\\local\\pip\\cache\\wheels\\b6\\a1\\81\\1036477786ae0e17b522f6f5a838f9bc4288d1016fc5d0e1ec\n",
            "Successfully built utils\n",
            "Installing collected packages: utils\n",
            "Successfully installed utils-1.0.2\n"
          ]
        }
      ],
      "source": [
        "!pip install utils"
      ]
    },
    {
      "cell_type": "code",
      "execution_count": 13,
      "metadata": {},
      "outputs": [
        {
          "name": "stdout",
          "output_type": "stream",
          "text": [
            "['d:\\\\Alvaro\\\\Cursos\\\\PUCP\\\\M2\\\\Desarrollo en Aplicaciones con Visión Artificial\\\\TrabajoFinal\\\\Modelo\\\\Covid-19\\\\COVID-19_Radiography_Dataset', 'C:\\\\Program Files\\\\WindowsApps\\\\PythonSoftwareFoundation.Python.3.9_3.9.3568.0_x64__qbz5n2kfra8p0\\\\python39.zip', 'C:\\\\Program Files\\\\WindowsApps\\\\PythonSoftwareFoundation.Python.3.9_3.9.3568.0_x64__qbz5n2kfra8p0\\\\DLLs', 'C:\\\\Program Files\\\\WindowsApps\\\\PythonSoftwareFoundation.Python.3.9_3.9.3568.0_x64__qbz5n2kfra8p0\\\\lib', 'C:\\\\Users\\\\Sistema\\\\AppData\\\\Local\\\\Microsoft\\\\WindowsApps\\\\PythonSoftwareFoundation.Python.3.9_qbz5n2kfra8p0', '', 'C:\\\\Users\\\\Sistema\\\\AppData\\\\Local\\\\Packages\\\\PythonSoftwareFoundation.Python.3.9_qbz5n2kfra8p0\\\\LocalCache\\\\local-packages\\\\Python39\\\\site-packages', 'C:\\\\Users\\\\Sistema\\\\AppData\\\\Local\\\\Packages\\\\PythonSoftwareFoundation.Python.3.9_qbz5n2kfra8p0\\\\LocalCache\\\\local-packages\\\\Python39\\\\site-packages\\\\win32', 'C:\\\\Users\\\\Sistema\\\\AppData\\\\Local\\\\Packages\\\\PythonSoftwareFoundation.Python.3.9_qbz5n2kfra8p0\\\\LocalCache\\\\local-packages\\\\Python39\\\\site-packages\\\\win32\\\\lib', 'C:\\\\Users\\\\Sistema\\\\AppData\\\\Local\\\\Packages\\\\PythonSoftwareFoundation.Python.3.9_qbz5n2kfra8p0\\\\LocalCache\\\\local-packages\\\\Python39\\\\site-packages\\\\Pythonwin', 'C:\\\\Program Files\\\\WindowsApps\\\\PythonSoftwareFoundation.Python.3.9_3.9.3568.0_x64__qbz5n2kfra8p0', 'C:\\\\Program Files\\\\WindowsApps\\\\PythonSoftwareFoundation.Python.3.9_3.9.3568.0_x64__qbz5n2kfra8p0\\\\lib\\\\site-packages']\n"
          ]
        }
      ],
      "source": [
        "import sys\n",
        "print(sys.path)\n"
      ]
    },
    {
      "cell_type": "code",
      "execution_count": 14,
      "metadata": {
        "id": "2OsNINZokpza"
      },
      "outputs": [
        {
          "ename": "ModuleNotFoundError",
          "evalue": "No module named 'utils.data_loading'",
          "output_type": "error",
          "traceback": [
            "\u001b[1;31m---------------------------------------------------------------------------\u001b[0m",
            "\u001b[1;31mModuleNotFoundError\u001b[0m                       Traceback (most recent call last)",
            "Cell \u001b[1;32mIn[14], line 5\u001b[0m\n\u001b[0;32m      3\u001b[0m \u001b[38;5;28;01mfrom\u001b[39;00m \u001b[38;5;21;01munet\u001b[39;00m \u001b[38;5;28;01mimport\u001b[39;00m \u001b[38;5;241m*\u001b[39m\n\u001b[0;32m      4\u001b[0m \u001b[38;5;28;01mfrom\u001b[39;00m \u001b[38;5;21;01mPIL\u001b[39;00m \u001b[38;5;28;01mimport\u001b[39;00m Image\n\u001b[1;32m----> 5\u001b[0m \u001b[38;5;28;01mfrom\u001b[39;00m \u001b[38;5;21;01mutils\u001b[39;00m\u001b[38;5;21;01m.\u001b[39;00m\u001b[38;5;21;01mdata_loading\u001b[39;00m \u001b[38;5;28;01mimport\u001b[39;00m BasicDataset\n\u001b[0;32m      6\u001b[0m \u001b[38;5;28;01mfrom\u001b[39;00m \u001b[38;5;21;01mtorchvision\u001b[39;00m \u001b[38;5;28;01mimport\u001b[39;00m transforms\n\u001b[0;32m      7\u001b[0m \u001b[38;5;28;01mimport\u001b[39;00m \u001b[38;5;21;01mtorch\u001b[39;00m\u001b[38;5;21;01m.\u001b[39;00m\u001b[38;5;21;01mnn\u001b[39;00m\u001b[38;5;21;01m.\u001b[39;00m\u001b[38;5;21;01mfunctional\u001b[39;00m \u001b[38;5;28;01mas\u001b[39;00m \u001b[38;5;21;01mF\u001b[39;00m\n",
            "\u001b[1;31mModuleNotFoundError\u001b[0m: No module named 'utils.data_loading'"
          ]
        }
      ],
      "source": [
        "# Importamos librerias necesarias\n",
        "import torch\n",
        "from unet import *\n",
        "from PIL import Image\n",
        "from utils.data_loading import BasicDataset\n",
        "from torchvision import transforms\n",
        "import torch.nn.functional as F\n",
        "import numpy as np\n",
        "import plotly.express as px"
      ]
    },
    {
      "cell_type": "code",
      "execution_count": null,
      "metadata": {
        "id": "sJcFFvLslGzd"
      },
      "outputs": [],
      "source": [
        "# Descargamos el modelo pre-entrenado y lo guardamos como 'MODEL.pth'\n",
        "!wget -O MODEL.pth https://github.com/milesial/Pytorch-UNet/releases/download/v2.0/unet_carvana_scale0.5_epoch1.pth"
      ]
    },
    {
      "cell_type": "code",
      "execution_count": null,
      "metadata": {
        "id": "9LNwy-An6O51"
      },
      "outputs": [],
      "source": [
        "# Definimos el modelo y cargamos los pesos pre-entrenados\n",
        "net = UNet(n_channels=3, n_classes=2)\n",
        "device = torch.device('cuda' if torch.cuda.is_available() else 'cpu')\n",
        "net.to(device)\n",
        "net.load_state_dict(torch.load(\"MODEL.pth\", map_location=device))\n",
        "print(net)"
      ]
    },
    {
      "cell_type": "code",
      "execution_count": null,
      "metadata": {
        "id": "H5AEFenM9D75"
      },
      "outputs": [],
      "source": [
        "# Definimos algunas funciones\n",
        "def predict_img(net,\n",
        "                full_img,\n",
        "                device,\n",
        "                scale_factor=1,\n",
        "                out_threshold=0.5):\n",
        "    ''' transformando imagen '''\n",
        "    net.eval()\n",
        "\n",
        "    img = torch.from_numpy(BasicDataset.preprocess(full_img, scale_factor, is_mask=False))\n",
        "    img = img.unsqueeze(0)\n",
        "    img = img.to(device=device, dtype=torch.float32)\n",
        "\n",
        "    with torch.no_grad():\n",
        "        output = net(img)\n",
        "\n",
        "        if net.n_classes > 1:\n",
        "            probs = F.softmax(output, dim=1)[0]\n",
        "        else:\n",
        "            probs = torch.sigmoid(output)[0]\n",
        "\n",
        "        tf = transforms.Compose([\n",
        "            transforms.ToPILImage(),\n",
        "            transforms.Resize((full_img.size[1], full_img.size[0])),\n",
        "            transforms.ToTensor()\n",
        "        ])\n",
        "\n",
        "        full_mask = tf(probs.cpu()).squeeze()\n",
        "\n",
        "    if net.n_classes == 1:\n",
        "        return (full_mask > out_threshold).numpy()\n",
        "    else:\n",
        "        return F.one_hot(full_mask.argmax(dim=0), net.n_classes).permute(2, 0, 1).numpy()\n",
        "\n",
        "\n",
        "def mask_to_image(mask):\n",
        "    if mask.ndim == 2:\n",
        "        return Image.fromarray((mask * 255).astype(np.uint8))\n",
        "    elif mask.ndim == 3:\n",
        "        return Image.fromarray((np.argmax(mask, axis=0) * 255 / mask.shape[0]).astype(np.uint8))\n"
      ]
    },
    {
      "cell_type": "code",
      "execution_count": null,
      "metadata": {
        "id": "KCnLt2n693k5"
      },
      "outputs": [],
      "source": [
        "# Descargmos una imagen de prueba\n",
        "!wget https://github.com/diplomado-ia-pucp/dava/raw/main/car2.jpg"
      ]
    },
    {
      "cell_type": "code",
      "execution_count": null,
      "metadata": {
        "id": "MQqHzQR96YYK"
      },
      "outputs": [],
      "source": [
        "# Predicción\n",
        "img = Image.open('car2.jpg')\n",
        "\n",
        "mask = predict_img(net=net,\n",
        "                    full_img=img,\n",
        "                    scale_factor=0.5,\n",
        "                    out_threshold=0.5,\n",
        "                    device=device)\n",
        "\n",
        "result = mask_to_image(mask)\n",
        "\n",
        "px.imshow(np.asarray(img)).show()\n",
        "\n",
        "px.imshow(np.asarray(result), binary_string=True).show()"
      ]
    },
    {
      "cell_type": "code",
      "execution_count": null,
      "metadata": {
        "id": "sEEpTAbAAegY"
      },
      "outputs": [],
      "source": []
    }
  ],
  "metadata": {
    "accelerator": "GPU",
    "colab": {
      "provenance": []
    },
    "kernelspec": {
      "display_name": "Python 3",
      "name": "python3"
    },
    "language_info": {
      "codemirror_mode": {
        "name": "ipython",
        "version": 3
      },
      "file_extension": ".py",
      "mimetype": "text/x-python",
      "name": "python",
      "nbconvert_exporter": "python",
      "pygments_lexer": "ipython3",
      "version": "3.9.13"
    }
  },
  "nbformat": 4,
  "nbformat_minor": 0
}
